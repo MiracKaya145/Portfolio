{
 "cells": [
  {
   "cell_type": "code",
   "execution_count": 8,
   "id": "03993a2d-5892-45bb-8c52-193f6e52824f",
   "metadata": {},
   "outputs": [],
   "source": [
    "import os\n",
    "import re\n",
    "import sys\n",
    "import datetime"
   ]
  },
  {
   "cell_type": "code",
   "execution_count": 13,
   "id": "864af77f-3bae-4353-ac64-a39ea47fc82c",
   "metadata": {},
   "outputs": [
    {
     "name": "stdout",
     "output_type": "stream",
     "text": [
      "Welcome to diary application\n",
      "The tings you can do:\n",
      "    1-Enter informations and write a diary\n",
      "    2-Read a diary\n",
      "    3-Remove a diary\n",
      "    4-exit\n"
     ]
    },
    {
     "name": "stdin",
     "output_type": "stream",
     "text": [
      "Please Enter your chose:  1\n",
      "Please enter your name:  Miac\n",
      "Please enter your surname:  Kaya\n",
      "Please enter day of the month 5\n",
      "Please enter the number of month 5\n",
      "Please enter the year:  2025\n",
      "please enter a file name:  guluk1\n",
      "Please Enter a text to write in txt file:  My name is mirac kaya\n"
     ]
    },
    {
     "name": "stdout",
     "output_type": "stream",
     "text": [
      "Completed succesfully\n",
      "The tings you can do:\n",
      "    1-Enter informations and write a diary\n",
      "    2-Read a diary\n",
      "    3-Remove a diary\n",
      "    4-exit\n"
     ]
    },
    {
     "name": "stdin",
     "output_type": "stream",
     "text": [
      "Please Enter your chose:  2\n"
     ]
    },
    {
     "name": "stdout",
     "output_type": "stream",
     "text": [
      "['guluk1.txt']\n"
     ]
    },
    {
     "name": "stdin",
     "output_type": "stream",
     "text": [
      "Please enter a file name with extension and chose from above list:  guluk.txt\n"
     ]
    },
    {
     "name": "stdout",
     "output_type": "stream",
     "text": [
      "The file you entered cannnot be found\n",
      "The tings you can do:\n",
      "    1-Enter informations and write a diary\n",
      "    2-Read a diary\n",
      "    3-Remove a diary\n",
      "    4-exit\n"
     ]
    },
    {
     "name": "stdin",
     "output_type": "stream",
     "text": [
      "Please Enter your chose:  2\n"
     ]
    },
    {
     "name": "stdout",
     "output_type": "stream",
     "text": [
      "['guluk1.txt']\n"
     ]
    },
    {
     "name": "stdin",
     "output_type": "stream",
     "text": [
      "Please enter a file name with extension and chose from above list:  guluk1.txt\n"
     ]
    },
    {
     "name": "stdout",
     "output_type": "stream",
     "text": [
      "('Miac', 'Kaya') - 2025-05-05 \n",
      "My name is mirac kaya\n",
      "The tings you can do:\n",
      "    1-Enter informations and write a diary\n",
      "    2-Read a diary\n",
      "    3-Remove a diary\n",
      "    4-exit\n"
     ]
    },
    {
     "name": "stdin",
     "output_type": "stream",
     "text": [
      "Please Enter your chose:  3\n"
     ]
    },
    {
     "name": "stdout",
     "output_type": "stream",
     "text": [
      "['guluk1.txt']\n"
     ]
    },
    {
     "name": "stdin",
     "output_type": "stream",
     "text": [
      "Please enter a file name with extension and chose from above list:  guluk\n"
     ]
    },
    {
     "name": "stdout",
     "output_type": "stream",
     "text": [
      "The file you cannot be found\n",
      "The tings you can do:\n",
      "    1-Enter informations and write a diary\n",
      "    2-Read a diary\n",
      "    3-Remove a diary\n",
      "    4-exit\n"
     ]
    },
    {
     "name": "stdin",
     "output_type": "stream",
     "text": [
      "Please Enter your chose:  3\n"
     ]
    },
    {
     "name": "stdout",
     "output_type": "stream",
     "text": [
      "['guluk1.txt']\n"
     ]
    },
    {
     "name": "stdin",
     "output_type": "stream",
     "text": [
      "Please enter a file name with extension and chose from above list:  guluk1.txt\n"
     ]
    },
    {
     "name": "stdout",
     "output_type": "stream",
     "text": [
      "Completed succesfully! Files in your folder: []\n",
      "The tings you can do:\n",
      "    1-Enter informations and write a diary\n",
      "    2-Read a diary\n",
      "    3-Remove a diary\n",
      "    4-exit\n"
     ]
    },
    {
     "name": "stdin",
     "output_type": "stream",
     "text": [
      "Please Enter your chose:  4\n"
     ]
    },
    {
     "name": "stdout",
     "output_type": "stream",
     "text": [
      "Thank you to prefered us\n"
     ]
    }
   ],
   "source": [
    "def get_name():\n",
    "    error = 0\n",
    "    name_check = False\n",
    "    while not name_check:\n",
    "        name = input(\"Please enter your name: \")\n",
    "        if re.fullmatch(r\"[a-zA-Z]+\", name):\n",
    "            name_check = True\n",
    "        else:\n",
    "            print(\"Please enter a valid name!\")\n",
    "            error += 1\n",
    "\n",
    "        if error == 3:\n",
    "            return \"Too much invalid trying. Program have been canceled\"\n",
    "\n",
    "    return name\n",
    "\n",
    "def get_surname():    \n",
    "    error2 = 0\n",
    "    surname_check = False\n",
    "    while not surname_check:\n",
    "        surname = input(\"Please enter your surname: \")\n",
    "        if re.fullmatch(r\"[a-zA-Z]+\", surname):\n",
    "            surname_check = True\n",
    "        else:\n",
    "            print(\"Please enter a valid surname!\")\n",
    "            error2 += 1\n",
    "\n",
    "        if error2 == 3:\n",
    "            return \"Too much invalid trying. Program have been canceled\"\n",
    "\n",
    "    return surname\n",
    "\n",
    "def get_date():\n",
    "\n",
    "    error3 = 0\n",
    "    date_check = False\n",
    "    while not date_check:\n",
    "        try:\n",
    "            day = int(input(\"Please enter day of the month\"))\n",
    "            month = int(input(\"Please enter the number of month\"))\n",
    "            year = int(input(\"Please enter the year: \"))\n",
    "            date = datetime.date(year, month, day)\n",
    "            date_check = True\n",
    "        \n",
    "        except ValueError:\n",
    "            print(\"Please enter valid year, moth or day.\")\n",
    "            error3 += 1\n",
    "        \n",
    "        if error3 == 3:\n",
    "            return \"Too much invalid trying. Program have been canceled\"\n",
    "\n",
    "    return date\n",
    "            \n",
    "\n",
    "class diary():\n",
    "\n",
    "    def __init__(self, name=\"unknown\", surname=\"unknown\", date=\"unknown\"):\n",
    "        self.name = name\n",
    "        self.surname = surname\n",
    "        self.date = date\n",
    "    \n",
    "    def write_diary(self, file_name):\n",
    "        os.makedirs(\"C:\\\\Users\\\\User\\\\Desktop\\\\Gunlukler\", exist_ok=True)\n",
    "        text = input(\"Please Enter a text to write in txt file: \")\n",
    "        try:\n",
    "            with open(f\"C:\\\\Users\\\\User\\\\Desktop\\\\Gunlukler\\\\{file_name}.txt\", \"w\", encoding=\"utf-8\") as file:\n",
    "                file.write(f\"{self.name, self.surname} - {self.date} \\n{text}\")\n",
    "        except OSError:\n",
    "            print(\"please use valid argumets in file name\")\n",
    "        except FileExistsError:\n",
    "            print(\"The file you entered already exists\")\n",
    "\n",
    "\n",
    "    def read_diary(self):\n",
    "        files = os.listdir(\"C:\\\\Users\\\\User\\\\Desktop\\\\Gunlukler\")\n",
    "        print(files)\n",
    "        try:\n",
    "            chose = input(\"Please enter a file name with extension and chose from above list: \")\n",
    "            path = os.path.join(\"C:\\\\Users\\\\User\\\\Desktop\\\\Gunlukler\", chose)\n",
    "            with open(path, \"r\", encoding=\"utf-8\") as file:\n",
    "                content = file.read()\n",
    "                print(content)\n",
    "        except FileNotFoundError:\n",
    "            print(\"The file you entered cannnot be found\")\n",
    "\n",
    "    def remove_diary(self):\n",
    "        files = os.listdir(\"C:\\\\Users\\\\User\\\\Desktop\\\\Gunlukler\")\n",
    "        print(files)\n",
    "        try:\n",
    "            chose = input(\"Please enter a file name with extension and chose from above list: \")\n",
    "            path = os.path.join(\"C:\\\\Users\\\\User\\\\Desktop\\\\Gunlukler\", chose)\n",
    "            os.remove(path)\n",
    "            print(f\"Completed succesfully! Files in your folder: {os.listdir(\"C:\\\\Users\\\\User\\\\Desktop\\\\Gunlukler\")}\")\n",
    "        except FileNotFoundError:\n",
    "            print(\"The file you cannot be found\")\n",
    "# Main menu\n",
    "print(\"Welcome to diary application\")\n",
    "while True:\n",
    "    print(\"\"\"The tings you can do:\n",
    "    1-Enter informations and write a diary\n",
    "    2-Read a diary\n",
    "    3-Remove a diary\n",
    "    4-exit\"\"\")\n",
    "\n",
    "    chose = input(\"Please Enter your chose: \")\n",
    "\n",
    "    if chose == \"1\":\n",
    "        name = get_name()\n",
    "        surname = get_surname()\n",
    "        date = get_date()\n",
    "        file_name = input(\"please enter a file name: \")\n",
    "        diary1 = diary(name, surname, date)\n",
    "        diary1.write_diary(file_name)\n",
    "        print(\"Completed succesfully\")\n",
    "    elif chose == \"2\":\n",
    "        diary1 = diary()\n",
    "        diary1.read_diary()\n",
    "    elif chose == \"3\":\n",
    "        diary1 = diary()\n",
    "        diary1.remove_diary()\n",
    "    elif chose == \"4\":\n",
    "        print(\"Thank you to prefered us\")\n",
    "        break\n",
    "    else:\n",
    "        print(\"Please enter a valid process number!\")\n",
    "        "
   ]
  }
 ],
 "metadata": {
  "kernelspec": {
   "display_name": "Python [conda env:base] *",
   "language": "python",
   "name": "conda-base-py"
  },
  "language_info": {
   "codemirror_mode": {
    "name": "ipython",
    "version": 3
   },
   "file_extension": ".py",
   "mimetype": "text/x-python",
   "name": "python",
   "nbconvert_exporter": "python",
   "pygments_lexer": "ipython3",
   "version": "3.12.7"
  }
 },
 "nbformat": 4,
 "nbformat_minor": 5
}
